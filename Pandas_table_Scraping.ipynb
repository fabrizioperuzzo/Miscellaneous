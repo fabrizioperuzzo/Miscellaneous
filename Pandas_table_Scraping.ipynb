{
 "cells": [
  {
   "cell_type": "code",
   "execution_count": 78,
   "metadata": {},
   "outputs": [],
   "source": [
    "import pandas as pd\n",
    "import numpy as np"
   ]
  },
  {
   "cell_type": "code",
   "execution_count": 134,
   "metadata": {},
   "outputs": [],
   "source": [
    "# set stock to look after \n",
    "\n",
    "stockname = 'RAD'"
   ]
  },
  {
   "cell_type": "code",
   "execution_count": 100,
   "metadata": {},
   "outputs": [],
   "source": [
    "d = pd.read_html('https://www.macrotrends.net/stocks/charts/{}/tesla/shares-outstanding'.format(stockname))"
   ]
  },
  {
   "cell_type": "code",
   "execution_count": 101,
   "metadata": {},
   "outputs": [
    {
     "name": "stdout",
     "output_type": "stream",
     "text": [
      "Sono state trovate 6 tabelle\n"
     ]
    }
   ],
   "source": [
    "print('Sono state trovate {} tabelle'.format(len(d)))"
   ]
  },
  {
   "cell_type": "code",
   "execution_count": 102,
   "metadata": {},
   "outputs": [
    {
     "name": "stdout",
     "output_type": "stream",
     "text": [
      "the 2° table with id [1] is the one with quarterly records\n"
     ]
    }
   ],
   "source": [
    "for i in range(len(d)):\n",
    "    if ((str(d[i]).count('Q2')>1)&(str(d[i]).count('Q3')>1)&(str(d[i]).count('Q3')>1)):\n",
    "        idtable = i\n",
    "        print ('the {}° table with id [{}] is the one with quarterly records'.format(i+1,idtable))"
   ]
  },
  {
   "cell_type": "code",
   "execution_count": 104,
   "metadata": {},
   "outputs": [
    {
     "data": {
      "text/html": [
       "<div>\n",
       "<style scoped>\n",
       "    .dataframe tbody tr th:only-of-type {\n",
       "        vertical-align: middle;\n",
       "    }\n",
       "\n",
       "    .dataframe tbody tr th {\n",
       "        vertical-align: top;\n",
       "    }\n",
       "\n",
       "    .dataframe thead th {\n",
       "        text-align: right;\n",
       "    }\n",
       "</style>\n",
       "<table border=\"1\" class=\"dataframe\">\n",
       "  <thead>\n",
       "    <tr style=\"text-align: right;\">\n",
       "      <th></th>\n",
       "      <th>Rite Aid Quarterly Shares Outstanding(Millions of Shares).1</th>\n",
       "    </tr>\n",
       "    <tr>\n",
       "      <th>year</th>\n",
       "      <th></th>\n",
       "    </tr>\n",
       "  </thead>\n",
       "  <tbody>\n",
       "    <tr>\n",
       "      <td>2005</td>\n",
       "      <td>27.50</td>\n",
       "    </tr>\n",
       "    <tr>\n",
       "      <td>2006</td>\n",
       "      <td>28.25</td>\n",
       "    </tr>\n",
       "    <tr>\n",
       "      <td>2007</td>\n",
       "      <td>33.00</td>\n",
       "    </tr>\n",
       "    <tr>\n",
       "      <td>2008</td>\n",
       "      <td>40.25</td>\n",
       "    </tr>\n",
       "    <tr>\n",
       "      <td>2009</td>\n",
       "      <td>43.50</td>\n",
       "    </tr>\n",
       "    <tr>\n",
       "      <td>2010</td>\n",
       "      <td>44.00</td>\n",
       "    </tr>\n",
       "    <tr>\n",
       "      <td>2011</td>\n",
       "      <td>44.00</td>\n",
       "    </tr>\n",
       "    <tr>\n",
       "      <td>2012</td>\n",
       "      <td>44.50</td>\n",
       "    </tr>\n",
       "    <tr>\n",
       "      <td>2013</td>\n",
       "      <td>47.75</td>\n",
       "    </tr>\n",
       "    <tr>\n",
       "      <td>2014</td>\n",
       "      <td>50.25</td>\n",
       "    </tr>\n",
       "    <tr>\n",
       "      <td>2015</td>\n",
       "      <td>51.50</td>\n",
       "    </tr>\n",
       "    <tr>\n",
       "      <td>2016</td>\n",
       "      <td>52.75</td>\n",
       "    </tr>\n",
       "    <tr>\n",
       "      <td>2017</td>\n",
       "      <td>52.75</td>\n",
       "    </tr>\n",
       "    <tr>\n",
       "      <td>2018</td>\n",
       "      <td>52.75</td>\n",
       "    </tr>\n",
       "    <tr>\n",
       "      <td>2019</td>\n",
       "      <td>53.25</td>\n",
       "    </tr>\n",
       "  </tbody>\n",
       "</table>\n",
       "</div>"
      ],
      "text/plain": [
       "      Rite Aid Quarterly Shares Outstanding(Millions of Shares).1\n",
       "year                                                             \n",
       "2005                                              27.50          \n",
       "2006                                              28.25          \n",
       "2007                                              33.00          \n",
       "2008                                              40.25          \n",
       "2009                                              43.50          \n",
       "2010                                              44.00          \n",
       "2011                                              44.00          \n",
       "2012                                              44.50          \n",
       "2013                                              47.75          \n",
       "2014                                              50.25          \n",
       "2015                                              51.50          \n",
       "2016                                              52.75          \n",
       "2017                                              52.75          \n",
       "2018                                              52.75          \n",
       "2019                                              53.25          "
      ]
     },
     "execution_count": 104,
     "metadata": {},
     "output_type": "execute_result"
    }
   ],
   "source": [
    "df=d[idtable]\n",
    "new = d[idtable].iloc[:,0].str.split(\" \", n = 1, expand = True) \n",
    "df['year']=new[1]\n",
    "df['quarter']=new[0]\n",
    "df.drop(df.columns[0], axis=1)\n",
    "dfgr = df.groupby('year').mean()\n",
    "dfgr.dropna(inplace=True)\n",
    "dfgr"
   ]
  },
  {
   "cell_type": "code",
   "execution_count": 132,
   "metadata": {},
   "outputs": [
    {
     "data": {
      "text/plain": [
       "{'2005': 27.5,\n",
       " '2006': 28.25,\n",
       " '2007': 33.0,\n",
       " '2008': 40.25,\n",
       " '2009': 43.5,\n",
       " '2010': 44.0,\n",
       " '2011': 44.0,\n",
       " '2012': 44.5,\n",
       " '2013': 47.75,\n",
       " '2014': 50.25,\n",
       " '2015': 51.5,\n",
       " '2016': 52.75,\n",
       " '2017': 52.75,\n",
       " '2018': 52.75,\n",
       " '2019': 53.25}"
      ]
     },
     "execution_count": 132,
     "metadata": {},
     "output_type": "execute_result"
    }
   ],
   "source": [
    "dfgr.iloc[:,0].to_dict()"
   ]
  },
  {
   "cell_type": "markdown",
   "metadata": {},
   "source": [
    "## Get list competitors"
   ]
  },
  {
   "cell_type": "code",
   "execution_count": 137,
   "metadata": {},
   "outputs": [
    {
     "data": {
      "text/plain": [
       "['CJJD', 'GNC', 'PETS', 'RAD', 'WBA']"
      ]
     },
     "execution_count": 137,
     "metadata": {},
     "output_type": "execute_result"
    }
   ],
   "source": [
    "d1 = pd.read_html('http://usfundmanager.com/CompanyReport/{}_C.html'.format(stockname))\n",
    "list_comp = d1[1].columns.tolist()[2:]\n",
    "list_comp_fin=[]\n",
    "for i in list_comp:\n",
    "    list_comp_fin.append(i.replace('(','').replace(')',''))\n",
    "list_comp_fin"
   ]
  }
 ],
 "metadata": {
  "kernelspec": {
   "display_name": "Python 3",
   "language": "python",
   "name": "python3"
  },
  "language_info": {
   "codemirror_mode": {
    "name": "ipython",
    "version": 3
   },
   "file_extension": ".py",
   "mimetype": "text/x-python",
   "name": "python",
   "nbconvert_exporter": "python",
   "pygments_lexer": "ipython3",
   "version": "3.7.4"
  }
 },
 "nbformat": 4,
 "nbformat_minor": 2
}
